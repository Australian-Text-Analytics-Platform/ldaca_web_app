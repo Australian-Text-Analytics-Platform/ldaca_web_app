{
 "cells": [
  {
   "cell_type": "markdown",
   "id": "c8a1df2c",
   "metadata": {},
   "source": [
    "## Notebook Async Dev Server\n",
    "\n",
    "This simple setup runs the FastAPI app (from `main.py`) inside the current Jupyter kernel *without spawning a subprocess*, so you can keep executing cells to inspect data while the server runs.\n",
    "\n",
    "\n",
    "**You can interact with your workspace graph and nodes from both this notebook and the web UI at the same time.** For example, you can manipulate or inspect nodes directly in Python here, while also using the web interface to visualize or edit the same workspace. All changes are reflected live, since both interfaces operate on the same in-memory workspace.\n",
    "\n",
    "Usage:\n",
    "\n",
    "1. Run the next code cell once (it auto-starts the server asynchronously).\n",
    "\n",
    "2. Interact with data / hit endpoints (e.g. `requests.get('http://127.0.0.1:8001/health')`).\n",
    "\n",
    "3. To reload code after editing `main.py`, call `reload_app()` then `await restart_server()`.\n",
    "\n",
    "4. To stop the server, `await stop_server()`.\n",
    "\n",
    "\n",
    "\n",
    "Note: Full auto-reload like `fastapi dev` isn't possible in-place; we provide a lightweight manual reload."
   ]
  },
  {
   "cell_type": "code",
   "execution_count": null,
   "id": "ac5d8675",
   "metadata": {},
   "outputs": [
    {
     "name": "stderr",
     "output_type": "stream",
     "text": [
      "/Users/sguo0589/Sources/LDaCA-Text-Analytics-Tools/.venv/lib/python3.12/site-packages/tqdm/auto.py:21: TqdmWarning: IProgress not found. Please update jupyter and ipywidgets. See https://ipywidgets.readthedocs.io/en/stable/user_install.html\n",
      "  from .autonotebook import tqdm as notebook_tqdm\n"
     ]
    },
    {
     "name": "stderr",
     "output_type": "stream",
     "text": [
      "INFO:     Started server process [35122]\n",
      "INFO:     Waiting for application startup.\n"
     ]
    },
    {
     "name": "stdout",
     "output_type": "stream",
     "text": [
      "🚀 Starting LDaCA Web App...\n",
      "==================================================\n",
      "🔧 DocFrame: ✅ Available\n",
      "🔧 DocWorkspace: ✅ Available\n"
     ]
    },
    {
     "name": "stderr",
     "output_type": "stream",
     "text": [
      "INFO:     Application startup complete.\n",
      "INFO:     Uvicorn running on http://localhost:8001 (Press CTRL+C to quit)\n"
     ]
    },
    {
     "name": "stdout",
     "output_type": "stream",
     "text": [
      "✅ Database initialized at: sqlite+aiosqlite:///./data/users.db\n",
      "✅ Enhanced API initialized successfully\n",
      "📖 API Documentation: http://0.0.0.0:8001/api/docs\n",
      "🔍 Health Check: http://0.0.0.0:8001/health\n",
      "INFO:     ::1:59964 - \"GET /api/workspaces/current HTTP/1.1\" 200 OK\n",
      "INFO:     ::1:59965 - \"GET /api/workspaces/e3478769-e7ab-4c4d-bacd-1a34f1139184/nodes/30333784-6f55-49b4-9998-0d351a03b923/data?page=1&page_size=20 HTTP/1.1\" 200 OK\n",
      "INFO:     ::1:59964 - \"GET /api/files/ HTTP/1.1\" 200 OK\n",
      "INFO:     ::1:59965 - \"OPTIONS /api/workspaces/current?workspace_id=e3478769-e7ab-4c4d-bacd-1a34f1139184 HTTP/1.1\" 200 OK\n",
      "INFO:     ::1:59964 - \"POST /api/workspaces/current?workspace_id=e3478769-e7ab-4c4d-bacd-1a34f1139184 HTTP/1.1\" 200 OK\n",
      "INFO:     ::1:59965 - \"GET /api/workspaces/current HTTP/1.1\" 200 OK\n",
      "INFO:     ::1:59964 - \"GET /api/workspaces/e3478769-e7ab-4c4d-bacd-1a34f1139184/graph HTTP/1.1\" 200 OK\n"
     ]
    },
    {
     "name": "stderr",
     "output_type": "stream",
     "text": [
      "/Users/sguo0589/Sources/LDaCA-Text-Analytics-Tools/docworkspace/src/docworkspace/node/core.py:128: PerformanceWarning: Determining the column names of a LazyFrame requires resolving its schema, which is a potentially expensive operation. Use `LazyFrame.collect_schema().names()` to get the column names without this warning.\n",
      "  return getattr(self.data, \"columns\", [])\n"
     ]
    },
    {
     "name": "stdout",
     "output_type": "stream",
     "text": [
      "INFO:     ::1:59965 - \"GET /api/workspaces/e3478769-e7ab-4c4d-bacd-1a34f1139184/nodes/30333784-6f55-49b4-9998-0d351a03b923 HTTP/1.1\" 200 OK\n",
      "INFO:     ::1:59964 - \"GET /api/workspaces/e3478769-e7ab-4c4d-bacd-1a34f1139184/nodes/30333784-6f55-49b4-9998-0d351a03b923/shape HTTP/1.1\" 200 OK\n",
      "INFO:     ::1:59965 - \"GET /api/workspaces/e3478769-e7ab-4c4d-bacd-1a34f1139184/nodes/30333784-6f55-49b4-9998-0d351a03b923 HTTP/1.1\" 200 OK\n",
      "INFO:     ::1:59964 - \"GET /api/workspaces/e3478769-e7ab-4c4d-bacd-1a34f1139184/nodes/30333784-6f55-49b4-9998-0d351a03b923/shape HTTP/1.1\" 200 OK\n",
      "INFO:     ::1:59965 - \"GET /api/workspaces/e3478769-e7ab-4c4d-bacd-1a34f1139184/nodes/30333784-6f55-49b4-9998-0d351a03b923 HTTP/1.1\" 200 OK\n",
      "INFO:     ::1:59964 - \"OPTIONS /api/workspaces/e3478769-e7ab-4c4d-bacd-1a34f1139184/nodes/30333784-6f55-49b4-9998-0d351a03b923 HTTP/1.1\" 200 OK\n",
      "INFO:     ::1:59965 - \"DELETE /api/workspaces/e3478769-e7ab-4c4d-bacd-1a34f1139184/nodes/30333784-6f55-49b4-9998-0d351a03b923 HTTP/1.1\" 200 OK\n",
      "INFO:     ::1:59964 - \"GET /api/workspaces/e3478769-e7ab-4c4d-bacd-1a34f1139184/graph HTTP/1.1\" 200 OK\n",
      "INFO:     ::1:59965 - \"GET /api/workspaces/e3478769-e7ab-4c4d-bacd-1a34f1139184/nodes/30333784-6f55-49b4-9998-0d351a03b923/data?page=1&page_size=20 HTTP/1.1\" 404 Not Found\n",
      "INFO:     ::1:59964 - \"GET /api/files/ HTTP/1.1\" 200 OK\n",
      "INFO:     ::1:59965 - \"POST /api/workspaces/e3478769-e7ab-4c4d-bacd-1a34f1139184/nodes?filename=sample_data%2FHansard%2Feconomy_agenda.csv HTTP/1.1\" 200 OK\n",
      "INFO:     ::1:59964 - \"GET /api/workspaces/e3478769-e7ab-4c4d-bacd-1a34f1139184/graph HTTP/1.1\" 200 OK\n"
     ]
    },
    {
     "name": "stderr",
     "output_type": "stream",
     "text": [
      "/Users/sguo0589/Sources/LDaCA-Text-Analytics-Tools/ldaca_web_app/backend/src/ldaca_web_app_backend/api/workspaces.py:634: PerformanceWarning: Determining the column names of a LazyFrame requires resolving its schema, which is a potentially expensive operation. Use `LazyFrame.collect_schema().names()` to get the column names without this warning.\n",
      "  if hasattr(data, \"columns\") and hasattr(data, \"iloc\"):\n",
      "/Users/sguo0589/Sources/LDaCA-Text-Analytics-Tools/docworkspace/src/docworkspace/node/core.py:128: PerformanceWarning: Determining the column names of a LazyFrame requires resolving its schema, which is a potentially expensive operation. Use `LazyFrame.collect_schema().names()` to get the column names without this warning.\n",
      "  return getattr(self.data, \"columns\", [])\n"
     ]
    },
    {
     "name": "stdout",
     "output_type": "stream",
     "text": [
      "INFO:     ::1:59965 - \"GET /api/workspaces/e3478769-e7ab-4c4d-bacd-1a34f1139184/nodes/d84be920-91ee-4617-b315-b431110c9afb/data?page=1&page_size=20 HTTP/1.1\" 200 OK\n",
      "INFO:     ::1:59964 - \"GET /api/workspaces/e3478769-e7ab-4c4d-bacd-1a34f1139184/nodes/d84be920-91ee-4617-b315-b431110c9afb/shape HTTP/1.1\" 200 OK\n",
      "INFO:     ::1:59965 - \"GET /api/workspaces/e3478769-e7ab-4c4d-bacd-1a34f1139184/nodes/d84be920-91ee-4617-b315-b431110c9afb HTTP/1.1\" 200 OK\n",
      "INFO:     ::1:59964 - \"GET /api/workspaces/e3478769-e7ab-4c4d-bacd-1a34f1139184/nodes/d84be920-91ee-4617-b315-b431110c9afb HTTP/1.1\" 200 OK\n",
      "INFO:     ::1:59965 - \"GET /api/workspaces/e3478769-e7ab-4c4d-bacd-1a34f1139184/nodes/d84be920-91ee-4617-b315-b431110c9afb HTTP/1.1\" 200 OK\n",
      "INFO:     ::1:59964 - \"OPTIONS /api/workspaces/e3478769-e7ab-4c4d-bacd-1a34f1139184/nodes/d84be920-91ee-4617-b315-b431110c9afb/cast HTTP/1.1\" 200 OK\n",
      "INFO:     ::1:59965 - \"POST /api/workspaces/e3478769-e7ab-4c4d-bacd-1a34f1139184/nodes/d84be920-91ee-4617-b315-b431110c9afb/cast HTTP/1.1\" 200 OK\n",
      "INFO:     ::1:59964 - \"GET /api/workspaces/e3478769-e7ab-4c4d-bacd-1a34f1139184/graph HTTP/1.1\" 200 OK\n",
      "INFO:     ::1:59965 - \"GET /api/workspaces/e3478769-e7ab-4c4d-bacd-1a34f1139184/nodes/d84be920-91ee-4617-b315-b431110c9afb/data?page=1&page_size=20 HTTP/1.1\" 200 OK\n",
      "INFO:     ::1:59964 - \"GET /api/workspaces/e3478769-e7ab-4c4d-bacd-1a34f1139184/nodes/d84be920-91ee-4617-b315-b431110c9afb HTTP/1.1\" 200 OK\n"
     ]
    },
    {
     "name": "stderr",
     "output_type": "stream",
     "text": [
      "/Users/sguo0589/Sources/LDaCA-Text-Analytics-Tools/docworkspace/src/docworkspace/node/core.py:128: PerformanceWarning: Determining the column names of a LazyFrame requires resolving its schema, which is a potentially expensive operation. Use `LazyFrame.collect_schema().names()` to get the column names without this warning.\n",
      "  return getattr(self.data, \"columns\", [])\n"
     ]
    },
    {
     "name": "stdout",
     "output_type": "stream",
     "text": [
      "INFO:     ::1:60239 - \"GET /api/workspaces/e3478769-e7ab-4c4d-bacd-1a34f1139184/nodes/d84be920-91ee-4617-b315-b431110c9afb HTTP/1.1\" 200 OK\n",
      "INFO:     ::1:60240 - \"OPTIONS /api/workspaces/e3478769-e7ab-4c4d-bacd-1a34f1139184/nodes/d84be920-91ee-4617-b315-b431110c9afb/filter HTTP/1.1\" 200 OK\n",
      "INFO:     ::1:60239 - \"POST /api/workspaces/e3478769-e7ab-4c4d-bacd-1a34f1139184/nodes/d84be920-91ee-4617-b315-b431110c9afb/filter HTTP/1.1\" 200 OK\n",
      "INFO:     ::1:60240 - \"GET /api/workspaces/e3478769-e7ab-4c4d-bacd-1a34f1139184/graph HTTP/1.1\" 200 OK\n",
      "INFO:     ::1:60239 - \"GET /api/workspaces/e3478769-e7ab-4c4d-bacd-1a34f1139184/nodes/d84be920-91ee-4617-b315-b431110c9afb HTTP/1.1\" 200 OK\n",
      "INFO:     ::1:60240 - \"GET /api/workspaces/current HTTP/1.1\" 200 OK\n",
      "INFO:     ::1:60239 - \"GET /api/workspaces/e3478769-e7ab-4c4d-bacd-1a34f1139184/nodes/d84be920-91ee-4617-b315-b431110c9afb/data?page=1&page_size=20 HTTP/1.1\" 200 OK\n"
     ]
    },
    {
     "name": "stderr",
     "output_type": "stream",
     "text": [
      "/Users/sguo0589/Sources/LDaCA-Text-Analytics-Tools/docworkspace/src/docworkspace/node/core.py:128: PerformanceWarning: Determining the column names of a LazyFrame requires resolving its schema, which is a potentially expensive operation. Use `LazyFrame.collect_schema().names()` to get the column names without this warning.\n",
      "  return getattr(self.data, \"columns\", [])\n"
     ]
    },
    {
     "name": "stdout",
     "output_type": "stream",
     "text": [
      "INFO:     ::1:60240 - \"GET /api/workspaces/e3478769-e7ab-4c4d-bacd-1a34f1139184/nodes/d84be920-91ee-4617-b315-b431110c9afb/shape HTTP/1.1\" 200 OK\n",
      "INFO:     ::1:60239 - \"GET /api/workspaces/e3478769-e7ab-4c4d-bacd-1a34f1139184/nodes/79ed9340-7691-4901-bdf3-9030b0950fdb/shape HTTP/1.1\" 200 OK\n",
      "INFO:     ::1:60240 - \"GET /api/workspaces/e3478769-e7ab-4c4d-bacd-1a34f1139184/nodes/79ed9340-7691-4901-bdf3-9030b0950fdb/data?page=1&page_size=20 HTTP/1.1\" 200 OK\n",
      "INFO:     ::1:60239 - \"GET /api/workspaces/e3478769-e7ab-4c4d-bacd-1a34f1139184/nodes/79ed9340-7691-4901-bdf3-9030b0950fdb/shape HTTP/1.1\" 200 OK\n",
      "INFO:     ::1:60240 - \"GET /api/workspaces/e3478769-e7ab-4c4d-bacd-1a34f1139184/nodes/79ed9340-7691-4901-bdf3-9030b0950fdb HTTP/1.1\" 200 OK\n",
      "INFO:     ::1:60239 - \"GET /api/workspaces/e3478769-e7ab-4c4d-bacd-1a34f1139184/nodes/79ed9340-7691-4901-bdf3-9030b0950fdb HTTP/1.1\" 200 OK\n",
      "INFO:     ::1:60240 - \"GET /api/workspaces/e3478769-e7ab-4c4d-bacd-1a34f1139184/nodes/79ed9340-7691-4901-bdf3-9030b0950fdb/shape HTTP/1.1\" 200 OK\n",
      "✅ Sample data copied to user root data folder\n",
      "INFO:     ::1:60239 - \"GET /api/auth/ HTTP/1.1\" 200 OK\n",
      "INFO:     ::1:60240 - \"GET /api/workspaces/e3478769-e7ab-4c4d-bacd-1a34f1139184/nodes/79ed9340-7691-4901-bdf3-9030b0950fdb HTTP/1.1\" 200 OK\n"
     ]
    }
   ],
   "source": [
    "from ldaca_web_app_backend import start_server_async, workspace_manager\n",
    "\n",
    "task = start_server_async(host=\"localhost\", port=8001)"
   ]
  },
  {
   "cell_type": "code",
   "execution_count": 2,
   "id": "fc2c52a3",
   "metadata": {},
   "outputs": [
    {
     "data": {
      "text/plain": [
       "Workspace(id=dad4fc44, name='Workspace 8/19/2025 9:04:12 PM', nodes=1)"
      ]
     },
     "execution_count": 2,
     "metadata": {},
     "output_type": "execute_result"
    }
   ],
   "source": [
    "ws = workspace_manager.get_current_workspace(\"root\")\n",
    "ws"
   ]
  },
  {
   "cell_type": "code",
   "execution_count": 3,
   "id": "9b61c423",
   "metadata": {},
   "outputs": [
    {
     "data": {
      "text/plain": [
       "{'d84be920-91ee-4617-b315-b431110c9afb': Node(id=d84be920, name='sample_data/Hansard/economy_agenda', dtype=LazyFrame, lazy=True, parents=0, children=0)}"
      ]
     },
     "execution_count": 3,
     "metadata": {},
     "output_type": "execute_result"
    }
   ],
   "source": [
    "ws.nodes"
   ]
  },
  {
   "cell_type": "code",
   "execution_count": 4,
   "id": "74569857",
   "metadata": {},
   "outputs": [
    {
     "data": {
      "text/html": [
       "<div><style>\n",
       ".dataframe > thead > tr,\n",
       ".dataframe > tbody > tr {\n",
       "  text-align: right;\n",
       "  white-space: pre-wrap;\n",
       "}\n",
       "</style>\n",
       "<small>shape: (5_872, 13)</small><table border=\"1\" class=\"dataframe\"><thead><tr><th>date</th><th>agenda</th><th>speechnumber</th><th>speaker</th><th>party</th><th>chair</th><th>text</th><th>agenda_id</th><th>agenda_topics</th><th>agenda_title</th><th>num_topics</th><th>agenda_speechnumber</th><th>agenda_title_normalised</th></tr><tr><td>datetime[μs, UTC]</td><td>str</td><td>i64</td><td>str</td><td>str</td><td>bool</td><td>str</td><td>i64</td><td>str</td><td>str</td><td>i64</td><td>i64</td><td>str</td></tr></thead><tbody><tr><td>1988-11-29 00:00:00 UTC</td><td>&quot;The Economy [Orders Of The Day…</td><td>161</td><td>&quot;CHAIR&quot;</td><td>null</td><td>true</td><td>&quot;I have selected the amendment …</td><td>61</td><td>&quot;[&#x27;Orders Of The Day&#x27;]&quot;</td><td>&quot;The Economy&quot;</td><td>1</td><td>1</td><td>&quot;the economy&quot;</td></tr><tr><td>1988-11-29 00:00:00 UTC</td><td>&quot;The Economy [Orders Of The Day…</td><td>162</td><td>&quot;Gordon Brown&quot;</td><td>&quot;Lab&quot;</td><td>false</td><td>&quot;I beg to move, at the end of t…</td><td>61</td><td>&quot;[&#x27;Orders Of The Day&#x27;]&quot;</td><td>&quot;The Economy&quot;</td><td>1</td><td>2</td><td>&quot;the economy&quot;</td></tr><tr><td>1988-11-29 00:00:00 UTC</td><td>&quot;The Economy [Orders Of The Day…</td><td>163</td><td>&quot;Quentin Davies&quot;</td><td>&quot;Con&quot;</td><td>false</td><td>&quot;Will the hon. Gentleman reflec…</td><td>61</td><td>&quot;[&#x27;Orders Of The Day&#x27;]&quot;</td><td>&quot;The Economy&quot;</td><td>1</td><td>3</td><td>&quot;the economy&quot;</td></tr><tr><td>1988-11-29 00:00:00 UTC</td><td>&quot;The Economy [Orders Of The Day…</td><td>164</td><td>&quot;Gordon Brown&quot;</td><td>&quot;Lab&quot;</td><td>false</td><td>&quot;The first effect of rising int…</td><td>61</td><td>&quot;[&#x27;Orders Of The Day&#x27;]&quot;</td><td>&quot;The Economy&quot;</td><td>1</td><td>4</td><td>&quot;the economy&quot;</td></tr><tr><td>1988-11-29 00:00:00 UTC</td><td>&quot;The Economy [Orders Of The Day…</td><td>165</td><td>&quot;Tim Yeo&quot;</td><td>&quot;Con&quot;</td><td>false</td><td>&quot;May I remind the hon. Member f…</td><td>61</td><td>&quot;[&#x27;Orders Of The Day&#x27;]&quot;</td><td>&quot;The Economy&quot;</td><td>1</td><td>5</td><td>&quot;the economy&quot;</td></tr><tr><td>&hellip;</td><td>&hellip;</td><td>&hellip;</td><td>&hellip;</td><td>&hellip;</td><td>&hellip;</td><td>&hellip;</td><td>&hellip;</td><td>&hellip;</td><td>&hellip;</td><td>&hellip;</td><td>&hellip;</td><td>&hellip;</td></tr><tr><td>2019-10-24 00:00:00 UTC</td><td>&quot;The Economy&quot;</td><td>529</td><td>&quot;Kevin Hollinrake&quot;</td><td>&quot;Con&quot;</td><td>false</td><td>&quot;Will the hon. Gentleman give w…</td><td>82530</td><td>&quot;[]&quot;</td><td>&quot;The Economy&quot;</td><td>0</td><td>161</td><td>&quot;the economy&quot;</td></tr><tr><td>2019-10-24 00:00:00 UTC</td><td>&quot;The Economy&quot;</td><td>530</td><td>&quot;Peter Dowd&quot;</td><td>&quot;Lab&quot;</td><td>false</td><td>&quot;I am sorry, but I will not at …</td><td>82530</td><td>&quot;[]&quot;</td><td>&quot;The Economy&quot;</td><td>0</td><td>162</td><td>&quot;the economy&quot;</td></tr><tr><td>2019-10-24 00:00:00 UTC</td><td>&quot;The Economy&quot;</td><td>531</td><td>&quot;Andrea Leadsom&quot;</td><td>&quot;Con&quot;</td><td>false</td><td>&quot;This has been an interesting d…</td><td>82530</td><td>&quot;[]&quot;</td><td>&quot;The Economy&quot;</td><td>0</td><td>163</td><td>&quot;the economy&quot;</td></tr><tr><td>2019-10-24 00:00:00 UTC</td><td>&quot;The Economy&quot;</td><td>532</td><td>&quot;CHAIR&quot;</td><td>null</td><td>true</td><td>&quot;Order. Resume your seat. I ver…</td><td>82530</td><td>&quot;[]&quot;</td><td>&quot;The Economy&quot;</td><td>0</td><td>164</td><td>&quot;the economy&quot;</td></tr><tr><td>2019-10-24 00:00:00 UTC</td><td>&quot;The Economy&quot;</td><td>533</td><td>&quot;Andrea Leadsom&quot;</td><td>&quot;Con&quot;</td><td>false</td><td>&quot;Thank you so much, Mr Speaker.…</td><td>82530</td><td>&quot;[]&quot;</td><td>&quot;The Economy&quot;</td><td>0</td><td>165</td><td>&quot;the economy&quot;</td></tr></tbody></table></div>"
      ],
      "text/plain": [
       "shape: (5_872, 13)\n",
       "┌───────────┬───────────┬───────────┬───────────┬───┬───────────┬───────────┬───────────┬──────────┐\n",
       "│ date      ┆ agenda    ┆ speechnum ┆ speaker   ┆ … ┆ agenda_ti ┆ num_topic ┆ agenda_sp ┆ agenda_t │\n",
       "│ ---       ┆ ---       ┆ ber       ┆ ---       ┆   ┆ tle       ┆ s         ┆ eechnumbe ┆ itle_nor │\n",
       "│ datetime[ ┆ str       ┆ ---       ┆ str       ┆   ┆ ---       ┆ ---       ┆ r         ┆ malised  │\n",
       "│ μs, UTC]  ┆           ┆ i64       ┆           ┆   ┆ str       ┆ i64       ┆ ---       ┆ ---      │\n",
       "│           ┆           ┆           ┆           ┆   ┆           ┆           ┆ i64       ┆ str      │\n",
       "╞═══════════╪═══════════╪═══════════╪═══════════╪═══╪═══════════╪═══════════╪═══════════╪══════════╡\n",
       "│ 1988-11-2 ┆ The       ┆ 161       ┆ CHAIR     ┆ … ┆ The       ┆ 1         ┆ 1         ┆ the      │\n",
       "│ 9         ┆ Economy   ┆           ┆           ┆   ┆ Economy   ┆           ┆           ┆ economy  │\n",
       "│ 00:00:00  ┆ [Orders   ┆           ┆           ┆   ┆           ┆           ┆           ┆          │\n",
       "│ UTC       ┆ Of The    ┆           ┆           ┆   ┆           ┆           ┆           ┆          │\n",
       "│           ┆ Day…      ┆           ┆           ┆   ┆           ┆           ┆           ┆          │\n",
       "│ 1988-11-2 ┆ The       ┆ 162       ┆ Gordon    ┆ … ┆ The       ┆ 1         ┆ 2         ┆ the      │\n",
       "│ 9         ┆ Economy   ┆           ┆ Brown     ┆   ┆ Economy   ┆           ┆           ┆ economy  │\n",
       "│ 00:00:00  ┆ [Orders   ┆           ┆           ┆   ┆           ┆           ┆           ┆          │\n",
       "│ UTC       ┆ Of The    ┆           ┆           ┆   ┆           ┆           ┆           ┆          │\n",
       "│           ┆ Day…      ┆           ┆           ┆   ┆           ┆           ┆           ┆          │\n",
       "│ 1988-11-2 ┆ The       ┆ 163       ┆ Quentin   ┆ … ┆ The       ┆ 1         ┆ 3         ┆ the      │\n",
       "│ 9         ┆ Economy   ┆           ┆ Davies    ┆   ┆ Economy   ┆           ┆           ┆ economy  │\n",
       "│ 00:00:00  ┆ [Orders   ┆           ┆           ┆   ┆           ┆           ┆           ┆          │\n",
       "│ UTC       ┆ Of The    ┆           ┆           ┆   ┆           ┆           ┆           ┆          │\n",
       "│           ┆ Day…      ┆           ┆           ┆   ┆           ┆           ┆           ┆          │\n",
       "│ 1988-11-2 ┆ The       ┆ 164       ┆ Gordon    ┆ … ┆ The       ┆ 1         ┆ 4         ┆ the      │\n",
       "│ 9         ┆ Economy   ┆           ┆ Brown     ┆   ┆ Economy   ┆           ┆           ┆ economy  │\n",
       "│ 00:00:00  ┆ [Orders   ┆           ┆           ┆   ┆           ┆           ┆           ┆          │\n",
       "│ UTC       ┆ Of The    ┆           ┆           ┆   ┆           ┆           ┆           ┆          │\n",
       "│           ┆ Day…      ┆           ┆           ┆   ┆           ┆           ┆           ┆          │\n",
       "│ 1988-11-2 ┆ The       ┆ 165       ┆ Tim Yeo   ┆ … ┆ The       ┆ 1         ┆ 5         ┆ the      │\n",
       "│ 9         ┆ Economy   ┆           ┆           ┆   ┆ Economy   ┆           ┆           ┆ economy  │\n",
       "│ 00:00:00  ┆ [Orders   ┆           ┆           ┆   ┆           ┆           ┆           ┆          │\n",
       "│ UTC       ┆ Of The    ┆           ┆           ┆   ┆           ┆           ┆           ┆          │\n",
       "│           ┆ Day…      ┆           ┆           ┆   ┆           ┆           ┆           ┆          │\n",
       "│ …         ┆ …         ┆ …         ┆ …         ┆ … ┆ …         ┆ …         ┆ …         ┆ …        │\n",
       "│ 2019-10-2 ┆ The       ┆ 529       ┆ Kevin Hol ┆ … ┆ The       ┆ 0         ┆ 161       ┆ the      │\n",
       "│ 4         ┆ Economy   ┆           ┆ linrake   ┆   ┆ Economy   ┆           ┆           ┆ economy  │\n",
       "│ 00:00:00  ┆           ┆           ┆           ┆   ┆           ┆           ┆           ┆          │\n",
       "│ UTC       ┆           ┆           ┆           ┆   ┆           ┆           ┆           ┆          │\n",
       "│ 2019-10-2 ┆ The       ┆ 530       ┆ Peter     ┆ … ┆ The       ┆ 0         ┆ 162       ┆ the      │\n",
       "│ 4         ┆ Economy   ┆           ┆ Dowd      ┆   ┆ Economy   ┆           ┆           ┆ economy  │\n",
       "│ 00:00:00  ┆           ┆           ┆           ┆   ┆           ┆           ┆           ┆          │\n",
       "│ UTC       ┆           ┆           ┆           ┆   ┆           ┆           ┆           ┆          │\n",
       "│ 2019-10-2 ┆ The       ┆ 531       ┆ Andrea    ┆ … ┆ The       ┆ 0         ┆ 163       ┆ the      │\n",
       "│ 4         ┆ Economy   ┆           ┆ Leadsom   ┆   ┆ Economy   ┆           ┆           ┆ economy  │\n",
       "│ 00:00:00  ┆           ┆           ┆           ┆   ┆           ┆           ┆           ┆          │\n",
       "│ UTC       ┆           ┆           ┆           ┆   ┆           ┆           ┆           ┆          │\n",
       "│ 2019-10-2 ┆ The       ┆ 532       ┆ CHAIR     ┆ … ┆ The       ┆ 0         ┆ 164       ┆ the      │\n",
       "│ 4         ┆ Economy   ┆           ┆           ┆   ┆ Economy   ┆           ┆           ┆ economy  │\n",
       "│ 00:00:00  ┆           ┆           ┆           ┆   ┆           ┆           ┆           ┆          │\n",
       "│ UTC       ┆           ┆           ┆           ┆   ┆           ┆           ┆           ┆          │\n",
       "│ 2019-10-2 ┆ The       ┆ 533       ┆ Andrea    ┆ … ┆ The       ┆ 0         ┆ 165       ┆ the      │\n",
       "│ 4         ┆ Economy   ┆           ┆ Leadsom   ┆   ┆ Economy   ┆           ┆           ┆ economy  │\n",
       "│ 00:00:00  ┆           ┆           ┆           ┆   ┆           ┆           ┆           ┆          │\n",
       "│ UTC       ┆           ┆           ┆           ┆   ┆           ┆           ┆           ┆          │\n",
       "└───────────┴───────────┴───────────┴───────────┴───┴───────────┴───────────┴───────────┴──────────┘"
      ]
     },
     "execution_count": 4,
     "metadata": {},
     "output_type": "execute_result"
    }
   ],
   "source": [
    "ws.nodes['d84be920-91ee-4617-b315-b431110c9afb'].data.collect()"
   ]
  },
  {
   "cell_type": "code",
   "execution_count": null,
   "id": "e13105aa",
   "metadata": {},
   "outputs": [],
   "source": []
  }
 ],
 "metadata": {
  "kernelspec": {
   "display_name": "ldaca",
   "language": "python",
   "name": "python3"
  },
  "language_info": {
   "codemirror_mode": {
    "name": "ipython",
    "version": 3
   },
   "file_extension": ".py",
   "mimetype": "text/x-python",
   "name": "python",
   "nbconvert_exporter": "python",
   "pygments_lexer": "ipython3",
   "version": "3.12.11"
  }
 },
 "nbformat": 4,
 "nbformat_minor": 5
}
