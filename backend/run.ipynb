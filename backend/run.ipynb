{
 "cells": [
  {
   "cell_type": "markdown",
   "id": "c8a1df2c",
   "metadata": {},
   "source": [
    "## Notebook Async Dev Server\n",
    "\n",
    "This simple setup runs the FastAPI app (from `main.py`) inside the current Jupyter kernel *without spawning a subprocess*, so you can keep executing cells to inspect data while the server runs.\n",
    "\n",
    "\n",
    "**You can interact with your workspace graph and nodes from both this notebook and the web UI at the same time.** For example, you can manipulate or inspect nodes directly in Python here, while also using the web interface to visualize or edit the same workspace. All changes are reflected live, since both interfaces operate on the same in-memory workspace.\n",
    "\n",
    "Usage:\n",
    "\n",
    "1. Run the next code cell once (it auto-starts the server asynchronously).\n",
    "\n",
    "2. Interact with data / hit endpoints (e.g. `requests.get('http://127.0.0.1:8001/health')`).\n",
    "\n",
    "3. To reload code after editing `main.py`, call `reload_app()` then `await restart_server()`.\n",
    "\n",
    "4. To stop the server, `await stop_server()`.\n",
    "\n",
    "\n",
    "\n",
    "Note: Full auto-reload like `fastapi dev` isn't possible in-place; we provide a lightweight manual reload."
   ]
  },
  {
   "cell_type": "code",
   "execution_count": null,
   "id": "ac5d8675",
   "metadata": {},
   "outputs": [
    {
     "name": "stderr",
     "output_type": "stream",
     "text": [
      "INFO:     Started server process [15070]\n",
      "INFO:     Waiting for application startup.\n"
     ]
    },
    {
     "name": "stdout",
     "output_type": "stream",
     "text": [
      "🚀 Starting LDaCA Web App...\n",
      "==================================================\n",
      "🔧 DocFrame: ✅ Available\n",
      "🔧 DocWorkspace: ✅ Available\n"
     ]
    },
    {
     "name": "stderr",
     "output_type": "stream",
     "text": [
      "INFO:     Application startup complete.\n",
      "INFO:     Uvicorn running on http://localhost:8001 (Press CTRL+C to quit)\n"
     ]
    },
    {
     "name": "stdout",
     "output_type": "stream",
     "text": [
      "✅ Database initialized at: sqlite+aiosqlite:///./data/users.db\n",
      "✅ Enhanced API initialized successfully\n",
      "📖 API Documentation: http://0.0.0.0:8001/api/docs\n",
      "🔍 Health Check: http://0.0.0.0:8001/health\n",
      "✅ Sample data copied to user root data folder\n",
      "INFO:     ::1:59356 - \"GET /api/auth/ HTTP/1.1\" 200 OK\n",
      "INFO:     ::1:59356 - \"GET /api/workspaces/ HTTP/1.1\" 200 OK\n",
      "INFO:     ::1:59358 - \"GET /api/workspaces/current HTTP/1.1\" 200 OK\n",
      "INFO:     ::1:59359 - \"GET /api/files/ HTTP/1.1\" 200 OK\n",
      "✅ Sample data copied to user root data folder\n",
      "INFO:     ::1:60173 - \"GET /api/auth/ HTTP/1.1\" 200 OK\n",
      "✅ Sample data copied to user root data folder\n",
      "INFO:     ::1:61075 - \"GET /api/auth/ HTTP/1.1\" 200 OK\n",
      "INFO:     ::1:61076 - \"GET /api/workspaces/ HTTP/1.1\" 200 OK\n",
      "INFO:     ::1:61077 - \"GET /api/workspaces/current HTTP/1.1\" 200 OK\n",
      "✅ Sample data copied to user root data folder\n",
      "INFO:     ::1:61075 - \"GET /api/auth/ HTTP/1.1\" 200 OK\n",
      "INFO:     ::1:61076 - \"GET /api/workspaces/ HTTP/1.1\" 200 OK\n",
      "INFO:     ::1:61077 - \"GET /api/workspaces/current HTTP/1.1\" 200 OK\n",
      "INFO:     ::1:61075 - \"GET /api/files/ HTTP/1.1\" 200 OK\n",
      "INFO:     ::1:61076 - \"OPTIONS /api/workspaces/current?workspace_id=dff042eb-4ddd-493a-bb40-9ce066f71209 HTTP/1.1\" 200 OK\n",
      "INFO:     ::1:61077 - \"POST /api/workspaces/current?workspace_id=dff042eb-4ddd-493a-bb40-9ce066f71209 HTTP/1.1\" 200 OK\n",
      "INFO:     ::1:61075 - \"GET /api/workspaces/current HTTP/1.1\" 200 OK\n",
      "INFO:     ::1:61076 - \"GET /api/workspaces/dff042eb-4ddd-493a-bb40-9ce066f71209/graph HTTP/1.1\" 200 OK\n"
     ]
    },
    {
     "name": "stderr",
     "output_type": "stream",
     "text": [
      "/Users/sguo0589/Sources/LDaCA-Text-Analytics-Tools/docworkspace/src/docworkspace/node/core.py:128: PerformanceWarning: Determining the column names of a LazyFrame requires resolving its schema, which is a potentially expensive operation. Use `LazyFrame.collect_schema().names()` to get the column names without this warning.\n",
      "  return getattr(self.data, \"columns\", [])\n"
     ]
    },
    {
     "name": "stdout",
     "output_type": "stream",
     "text": [
      "INFO:     ::1:61077 - \"GET /api/workspaces/dff042eb-4ddd-493a-bb40-9ce066f71209/nodes/5316be57-8a84-4c55-ba04-2c03e474ffa6/data?page=1&page_size=20 HTTP/1.1\" 200 OK\n",
      "INFO:     ::1:61075 - \"GET /api/workspaces/dff042eb-4ddd-493a-bb40-9ce066f71209/nodes/5316be57-8a84-4c55-ba04-2c03e474ffa6/shape HTTP/1.1\" 200 OK\n",
      "INFO:     ::1:61076 - \"GET /api/workspaces/dff042eb-4ddd-493a-bb40-9ce066f71209/nodes/5316be57-8a84-4c55-ba04-2c03e474ffa6 HTTP/1.1\" 200 OK\n",
      "INFO:     ::1:61077 - \"GET /api/workspaces/dff042eb-4ddd-493a-bb40-9ce066f71209/nodes/5316be57-8a84-4c55-ba04-2c03e474ffa6 HTTP/1.1\" 200 OK\n",
      "INFO:     ::1:61075 - \"GET /api/workspaces/dff042eb-4ddd-493a-bb40-9ce066f71209/nodes/5316be57-8a84-4c55-ba04-2c03e474ffa6/shape HTTP/1.1\" 200 OK\n",
      "INFO:     ::1:61076 - \"GET /api/workspaces/dff042eb-4ddd-493a-bb40-9ce066f71209/nodes/5316be57-8a84-4c55-ba04-2c03e474ffa6 HTTP/1.1\" 200 OK\n",
      "INFO:     ::1:61077 - \"GET /api/workspaces/dff042eb-4ddd-493a-bb40-9ce066f71209/nodes/5316be57-8a84-4c55-ba04-2c03e474ffa6/shape HTTP/1.1\" 200 OK\n",
      "INFO:     ::1:61075 - \"GET /api/workspaces/dff042eb-4ddd-493a-bb40-9ce066f71209/nodes/5316be57-8a84-4c55-ba04-2c03e474ffa6 HTTP/1.1\" 200 OK\n",
      "INFO:     ::1:61076 - \"GET /api/workspaces/dff042eb-4ddd-493a-bb40-9ce066f71209/nodes/5316be57-8a84-4c55-ba04-2c03e474ffa6/shape HTTP/1.1\" 200 OK\n",
      "INFO:     ::1:61077 - \"GET /api/workspaces/dff042eb-4ddd-493a-bb40-9ce066f71209/nodes/5316be57-8a84-4c55-ba04-2c03e474ffa6/shape HTTP/1.1\" 200 OK\n",
      "INFO:     ::1:61075 - \"GET /api/workspaces/dff042eb-4ddd-493a-bb40-9ce066f71209/nodes/adef47b7-8328-45dd-b943-f757b706e7d3/shape HTTP/1.1\" 200 OK\n",
      "INFO:     ::1:61076 - \"GET /api/workspaces/dff042eb-4ddd-493a-bb40-9ce066f71209/nodes/5316be57-8a84-4c55-ba04-2c03e474ffa6 HTTP/1.1\" 200 OK\n",
      "INFO:     ::1:61077 - \"GET /api/workspaces/dff042eb-4ddd-493a-bb40-9ce066f71209/nodes/5316be57-8a84-4c55-ba04-2c03e474ffa6/shape HTTP/1.1\" 200 OK\n",
      "INFO:     ::1:61075 - \"GET /api/workspaces/dff042eb-4ddd-493a-bb40-9ce066f71209/nodes/5316be57-8a84-4c55-ba04-2c03e474ffa6 HTTP/1.1\" 200 OK\n",
      "INFO:     ::1:61076 - \"GET /api/workspaces/dff042eb-4ddd-493a-bb40-9ce066f71209/nodes/5316be57-8a84-4c55-ba04-2c03e474ffa6 HTTP/1.1\" 200 OK\n",
      "INFO:     ::1:61077 - \"GET /api/workspaces/dff042eb-4ddd-493a-bb40-9ce066f71209/nodes/5316be57-8a84-4c55-ba04-2c03e474ffa6/shape HTTP/1.1\" 200 OK\n",
      "INFO:     ::1:61075 - \"GET /api/workspaces/dff042eb-4ddd-493a-bb40-9ce066f71209/nodes/5316be57-8a84-4c55-ba04-2c03e474ffa6 HTTP/1.1\" 200 OK\n",
      "INFO:     ::1:61076 - \"GET /api/workspaces/dff042eb-4ddd-493a-bb40-9ce066f71209/nodes/5316be57-8a84-4c55-ba04-2c03e474ffa6/shape HTTP/1.1\" 200 OK\n",
      "INFO:     ::1:61077 - \"GET /api/workspaces/dff042eb-4ddd-493a-bb40-9ce066f71209/nodes/5316be57-8a84-4c55-ba04-2c03e474ffa6 HTTP/1.1\" 200 OK\n",
      "INFO:     ::1:61075 - \"GET /api/workspaces/dff042eb-4ddd-493a-bb40-9ce066f71209/nodes/5316be57-8a84-4c55-ba04-2c03e474ffa6/shape HTTP/1.1\" 200 OK\n",
      "INFO:     ::1:61076 - \"GET /api/workspaces/dff042eb-4ddd-493a-bb40-9ce066f71209/nodes/5316be57-8a84-4c55-ba04-2c03e474ffa6 HTTP/1.1\" 200 OK\n",
      "INFO:     ::1:61077 - \"GET /api/workspaces/dff042eb-4ddd-493a-bb40-9ce066f71209/nodes/5316be57-8a84-4c55-ba04-2c03e474ffa6/shape HTTP/1.1\" 200 OK\n",
      "INFO:     ::1:61075 - \"GET /api/workspaces/dff042eb-4ddd-493a-bb40-9ce066f71209/nodes/5316be57-8a84-4c55-ba04-2c03e474ffa6 HTTP/1.1\" 200 OK\n",
      "INFO:     ::1:61076 - \"OPTIONS /api/workspaces/dff042eb-4ddd-493a-bb40-9ce066f71209/nodes/5316be57-8a84-4c55-ba04-2c03e474ffa6/cast HTTP/1.1\" 200 OK\n",
      "INFO:     ::1:61077 - \"POST /api/workspaces/dff042eb-4ddd-493a-bb40-9ce066f71209/nodes/5316be57-8a84-4c55-ba04-2c03e474ffa6/cast HTTP/1.1\" 200 OK\n",
      "INFO:     ::1:61075 - \"GET /api/workspaces/dff042eb-4ddd-493a-bb40-9ce066f71209/graph HTTP/1.1\" 200 OK\n",
      "INFO:     ::1:61076 - \"GET /api/workspaces/dff042eb-4ddd-493a-bb40-9ce066f71209/nodes/5316be57-8a84-4c55-ba04-2c03e474ffa6/data?page=1&page_size=20 HTTP/1.1\" 200 OK\n",
      "INFO:     ::1:61077 - \"GET /api/workspaces/dff042eb-4ddd-493a-bb40-9ce066f71209/nodes/5316be57-8a84-4c55-ba04-2c03e474ffa6 HTTP/1.1\" 200 OK\n"
     ]
    },
    {
     "name": "stderr",
     "output_type": "stream",
     "text": [
      "/Users/sguo0589/Sources/LDaCA-Text-Analytics-Tools/docworkspace/src/docworkspace/node/core.py:128: PerformanceWarning: Determining the column names of a LazyFrame requires resolving its schema, which is a potentially expensive operation. Use `LazyFrame.collect_schema().names()` to get the column names without this warning.\n",
      "  return getattr(self.data, \"columns\", [])\n"
     ]
    },
    {
     "name": "stdout",
     "output_type": "stream",
     "text": [
      "INFO:     ::1:61075 - \"GET /api/workspaces/dff042eb-4ddd-493a-bb40-9ce066f71209/nodes/adef47b7-8328-45dd-b943-f757b706e7d3/shape HTTP/1.1\" 200 OK\n",
      "INFO:     ::1:61076 - \"GET /api/workspaces/dff042eb-4ddd-493a-bb40-9ce066f71209/nodes/5316be57-8a84-4c55-ba04-2c03e474ffa6/shape HTTP/1.1\" 200 OK\n",
      "INFO:     ::1:61077 - \"GET /api/workspaces/dff042eb-4ddd-493a-bb40-9ce066f71209/nodes/adef47b7-8328-45dd-b943-f757b706e7d3/shape HTTP/1.1\" 200 OK\n",
      "INFO:     ::1:61075 - \"GET /api/workspaces/dff042eb-4ddd-493a-bb40-9ce066f71209/nodes/5316be57-8a84-4c55-ba04-2c03e474ffa6 HTTP/1.1\" 200 OK\n",
      "INFO:     ::1:61076 - \"GET /api/workspaces/dff042eb-4ddd-493a-bb40-9ce066f71209/nodes/5316be57-8a84-4c55-ba04-2c03e474ffa6/shape HTTP/1.1\" 200 OK\n",
      "INFO:     ::1:61077 - \"GET /api/workspaces/dff042eb-4ddd-493a-bb40-9ce066f71209/nodes/5316be57-8a84-4c55-ba04-2c03e474ffa6 HTTP/1.1\" 200 OK\n",
      "INFO:     ::1:61075 - \"GET /api/workspaces/dff042eb-4ddd-493a-bb40-9ce066f71209/nodes/5316be57-8a84-4c55-ba04-2c03e474ffa6/shape HTTP/1.1\" 200 OK\n",
      "INFO:     ::1:61076 - \"GET /api/workspaces/dff042eb-4ddd-493a-bb40-9ce066f71209/nodes/5316be57-8a84-4c55-ba04-2c03e474ffa6/shape HTTP/1.1\" 200 OK\n",
      "INFO:     ::1:61077 - \"GET /api/workspaces/dff042eb-4ddd-493a-bb40-9ce066f71209/nodes/adef47b7-8328-45dd-b943-f757b706e7d3/data?page=1&page_size=20 HTTP/1.1\" 200 OK\n",
      "INFO:     ::1:61075 - \"GET /api/workspaces/dff042eb-4ddd-493a-bb40-9ce066f71209/nodes/adef47b7-8328-45dd-b943-f757b706e7d3/shape HTTP/1.1\" 200 OK\n",
      "INFO:     ::1:61076 - \"GET /api/workspaces/dff042eb-4ddd-493a-bb40-9ce066f71209/nodes/adef47b7-8328-45dd-b943-f757b706e7d3 HTTP/1.1\" 200 OK\n",
      "INFO:     ::1:61077 - \"GET /api/workspaces/dff042eb-4ddd-493a-bb40-9ce066f71209/nodes/adef47b7-8328-45dd-b943-f757b706e7d3 HTTP/1.1\" 200 OK\n",
      "INFO:     ::1:61075 - \"GET /api/workspaces/dff042eb-4ddd-493a-bb40-9ce066f71209/nodes/adef47b7-8328-45dd-b943-f757b706e7d3/shape HTTP/1.1\" 200 OK\n",
      "INFO:     ::1:61076 - \"GET /api/workspaces/dff042eb-4ddd-493a-bb40-9ce066f71209/nodes/adef47b7-8328-45dd-b943-f757b706e7d3 HTTP/1.1\" 200 OK\n",
      "INFO:     ::1:61077 - \"GET /api/workspaces/dff042eb-4ddd-493a-bb40-9ce066f71209/nodes/5316be57-8a84-4c55-ba04-2c03e474ffa6/shape HTTP/1.1\" 200 OK\n",
      "✅ Sample data copied to user root data folder\n",
      "INFO:     ::1:61910 - \"GET /api/auth/ HTTP/1.1\" 200 OK\n",
      "INFO:     ::1:61910 - \"GET /api/workspaces/dff042eb-4ddd-493a-bb40-9ce066f71209/nodes/adef47b7-8328-45dd-b943-f757b706e7d3 HTTP/1.1\" 200 OK\n",
      "✅ Sample data copied to user root data folder\n",
      "INFO:     ::1:62726 - \"GET /api/auth/ HTTP/1.1\" 200 OK\n",
      "INFO:     ::1:62726 - \"GET /api/workspaces/dff042eb-4ddd-493a-bb40-9ce066f71209/nodes/adef47b7-8328-45dd-b943-f757b706e7d3 HTTP/1.1\" 200 OK\n",
      "✅ Sample data copied to user root data folder\n",
      "INFO:     ::1:63555 - \"GET /api/auth/ HTTP/1.1\" 200 OK\n",
      "INFO:     ::1:63555 - \"GET /api/workspaces/dff042eb-4ddd-493a-bb40-9ce066f71209/nodes/adef47b7-8328-45dd-b943-f757b706e7d3 HTTP/1.1\" 200 OK\n",
      "✅ Sample data copied to user root data folder\n",
      "INFO:     ::1:64337 - \"GET /api/auth/ HTTP/1.1\" 200 OK\n",
      "INFO:     ::1:64337 - \"GET /api/workspaces/dff042eb-4ddd-493a-bb40-9ce066f71209/nodes/adef47b7-8328-45dd-b943-f757b706e7d3 HTTP/1.1\" 200 OK\n",
      "✅ Sample data copied to user root data folder\n",
      "INFO:     ::1:65150 - \"GET /api/auth/ HTTP/1.1\" 200 OK\n",
      "INFO:     ::1:65150 - \"GET /api/workspaces/dff042eb-4ddd-493a-bb40-9ce066f71209/nodes/adef47b7-8328-45dd-b943-f757b706e7d3 HTTP/1.1\" 200 OK\n",
      "✅ Sample data copied to user root data folder\n",
      "INFO:     ::1:49159 - \"GET /api/auth/ HTTP/1.1\" 200 OK\n",
      "INFO:     ::1:49159 - \"GET /api/workspaces/dff042eb-4ddd-493a-bb40-9ce066f71209/nodes/adef47b7-8328-45dd-b943-f757b706e7d3 HTTP/1.1\" 200 OK\n",
      "INFO:     ::1:50006 - \"GET /api/docs HTTP/1.1\" 200 OK\n",
      "INFO:     ::1:50006 - \"GET /api/openapi.json HTTP/1.1\" 200 OK\n",
      "✅ Sample data copied to user root data folder\n",
      "INFO:     ::1:50013 - \"GET /api/auth/ HTTP/1.1\" 200 OK\n",
      "INFO:     ::1:50013 - \"GET /api/workspaces/dff042eb-4ddd-493a-bb40-9ce066f71209/nodes/adef47b7-8328-45dd-b943-f757b706e7d3 HTTP/1.1\" 200 OK\n",
      "✅ Sample data copied to user root data folder\n",
      "INFO:     ::1:51096 - \"GET /api/auth/ HTTP/1.1\" 200 OK\n",
      "INFO:     ::1:51096 - \"GET /api/workspaces/dff042eb-4ddd-493a-bb40-9ce066f71209/nodes/adef47b7-8328-45dd-b943-f757b706e7d3 HTTP/1.1\" 200 OK\n",
      "✅ Sample data copied to user root data folder\n",
      "INFO:     ::1:52049 - \"GET /api/auth/ HTTP/1.1\" 200 OK\n",
      "INFO:     ::1:52049 - \"GET /api/workspaces/dff042eb-4ddd-493a-bb40-9ce066f71209/nodes/adef47b7-8328-45dd-b943-f757b706e7d3 HTTP/1.1\" 200 OK\n",
      "✅ Sample data copied to user root data folder\n",
      "INFO:     ::1:53009 - \"GET /api/auth/ HTTP/1.1\" 200 OK\n",
      "INFO:     ::1:53009 - \"GET /api/workspaces/dff042eb-4ddd-493a-bb40-9ce066f71209/nodes/adef47b7-8328-45dd-b943-f757b706e7d3 HTTP/1.1\" 200 OK\n",
      "✅ Sample data copied to user root data folder\n",
      "INFO:     ::1:54001 - \"GET /api/auth/ HTTP/1.1\" 200 OK\n",
      "INFO:     ::1:54001 - \"GET /api/workspaces/dff042eb-4ddd-493a-bb40-9ce066f71209/nodes/adef47b7-8328-45dd-b943-f757b706e7d3 HTTP/1.1\" 200 OK\n",
      "✅ Sample data copied to user root data folder\n",
      "INFO:     ::1:54975 - \"GET /api/auth/ HTTP/1.1\" 200 OK\n",
      "INFO:     ::1:54975 - \"GET /api/workspaces/dff042eb-4ddd-493a-bb40-9ce066f71209/nodes/adef47b7-8328-45dd-b943-f757b706e7d3 HTTP/1.1\" 200 OK\n",
      "✅ Sample data copied to user root data folder\n",
      "INFO:     ::1:56071 - \"GET /api/auth/ HTTP/1.1\" 200 OK\n",
      "INFO:     ::1:56071 - \"GET /api/workspaces/dff042eb-4ddd-493a-bb40-9ce066f71209/nodes/adef47b7-8328-45dd-b943-f757b706e7d3 HTTP/1.1\" 200 OK\n"
     ]
    }
   ],
   "source": [
    "from ldaca_web_app_backend import start_server_async, start_server\n",
    "\n",
    "task = start_server_async(host=\"localhost\", port=8001)"
   ]
  },
  {
   "cell_type": "code",
   "execution_count": 3,
   "id": "beec94f4",
   "metadata": {},
   "outputs": [
    {
     "data": {
      "text/plain": [
       "<coroutine object start_server at 0x121e7ad40>"
      ]
     },
     "execution_count": 3,
     "metadata": {},
     "output_type": "execute_result"
    }
   ],
   "source": [
    "start_server(host=\"localhost\", port=8001)"
   ]
  },
  {
   "cell_type": "code",
   "execution_count": 3,
   "id": "fc2c52a3",
   "metadata": {},
   "outputs": [
    {
     "data": {
      "text/plain": [
       "Workspace(id=519fc7dd, name='Workspace 8/15/2025 10:33:18 AM', nodes=1)"
      ]
     },
     "execution_count": 3,
     "metadata": {},
     "output_type": "execute_result"
    }
   ],
   "source": [
    "from core.workspace import workspace_manager\n",
    "\n",
    "ws = workspace_manager.get_current_workspace(\"root\")\n",
    "ws"
   ]
  },
  {
   "cell_type": "code",
   "execution_count": 1,
   "id": "f328abd6",
   "metadata": {},
   "outputs": [
    {
     "ename": "NameError",
     "evalue": "name 'ws' is not defined",
     "output_type": "error",
     "traceback": [
      "\u001b[31m---------------------------------------------------------------------------\u001b[39m",
      "\u001b[31mNameError\u001b[39m                                 Traceback (most recent call last)",
      "\u001b[36mCell\u001b[39m\u001b[36m \u001b[39m\u001b[32mIn[1]\u001b[39m\u001b[32m, line 1\u001b[39m\n\u001b[32m----> \u001b[39m\u001b[32m1\u001b[39m \u001b[43mws\u001b[49m.serialise\n",
      "\u001b[31mNameError\u001b[39m: name 'ws' is not defined"
     ]
    }
   ],
   "source": [
    "ws.serialise"
   ]
  },
  {
   "cell_type": "code",
   "execution_count": 7,
   "id": "02cdf35d",
   "metadata": {},
   "outputs": [],
   "source": [
    "workspace_manager._save('root', '67a8e571-f5a1-4daa-90ee-cc3c7c7e598c', ws)"
   ]
  },
  {
   "cell_type": "code",
   "execution_count": 5,
   "id": "9b61c423",
   "metadata": {},
   "outputs": [
    {
     "data": {
      "text/plain": [
       "{'f5a8e8a1-a214-4d15-ad3a-f90ad864c6c8': Node(id=f5a8e8a1, name='sample_data/ADO/qldelection2020_candidate_tweets', dtype=LazyFrame, lazy=True, parents=0, children=0),\n",
       " '53b374b3-3925-4932-b111-7fbf70e4de3e': Node(id=53b374b3, name='sample_data/ADO/qldelection2020_candidate_tweets', dtype=LazyFrame, lazy=True, parents=0, children=0)}"
      ]
     },
     "execution_count": 5,
     "metadata": {},
     "output_type": "execute_result"
    }
   ],
   "source": [
    "ws.nodes"
   ]
  },
  {
   "cell_type": "code",
   "execution_count": 7,
   "id": "a07322d0",
   "metadata": {},
   "outputs": [
    {
     "name": "stdout",
     "output_type": "stream",
     "text": [
      "Matched Int64 or Float32\n"
     ]
    }
   ],
   "source": [
    "import polars as pl\n",
    "def foo(dtype):\n",
    "    match dtype:\n",
    "        case pl.Int64 | pl.Float32:\n",
    "            print(\"Matched Int64 or Float32\")\n",
    "        case _:\n",
    "            print(\"Matched something else\")\n",
    "\n",
    "foo(pl.Float32)"
   ]
  },
  {
   "cell_type": "code",
   "execution_count": 5,
   "id": "b33edb57",
   "metadata": {},
   "outputs": [
    {
     "data": {
      "text/plain": [
       "False"
      ]
     },
     "execution_count": 5,
     "metadata": {},
     "output_type": "execute_result"
    }
   ],
   "source": [
    "pl.Int64 == pl.Int64 | pl.Float32"
   ]
  },
  {
   "cell_type": "code",
   "execution_count": null,
   "id": "fd71d0b9",
   "metadata": {},
   "outputs": [],
   "source": []
  }
 ],
 "metadata": {
  "kernelspec": {
   "display_name": "ldaca",
   "language": "python",
   "name": "python3"
  },
  "language_info": {
   "codemirror_mode": {
    "name": "ipython",
    "version": 3
   },
   "file_extension": ".py",
   "mimetype": "text/x-python",
   "name": "python",
   "nbconvert_exporter": "python",
   "pygments_lexer": "ipython3",
   "version": "3.12.11"
  }
 },
 "nbformat": 4,
 "nbformat_minor": 5
}
