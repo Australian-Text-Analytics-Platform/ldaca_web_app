{
 "cells": [
  {
   "cell_type": "markdown",
   "id": "c8a1df2c",
   "metadata": {},
   "source": [
    "## Notebook Async Dev Server\n",
    "\n",
    "This simple setup runs the FastAPI app (from `main.py`) inside the current Jupyter kernel *without spawning a subprocess*, so you can keep executing cells to inspect data while the server runs.\n",
    "\n",
    "\n",
    "**You can interact with your workspace graph and nodes from both this notebook and the web UI at the same time.** For example, you can manipulate or inspect nodes directly in Python here, while also using the web interface to visualize or edit the same workspace. All changes are reflected live, since both interfaces operate on the same in-memory workspace.\n",
    "\n",
    "Usage:\n",
    "\n",
    "1. Run the next code cell once (it auto-starts the server asynchronously).\n",
    "\n",
    "2. Interact with data / hit endpoints (e.g. `requests.get('http://127.0.0.1:8001/health')`).\n",
    "\n",
    "3. To reload code after editing `main.py`, call `reload_app()` then `await restart_server()`.\n",
    "\n",
    "4. To stop the server, `await stop_server()`.\n",
    "\n",
    "\n",
    "\n",
    "Note: Full auto-reload like `fastapi dev` isn't possible in-place; we provide a lightweight manual reload."
   ]
  },
  {
   "cell_type": "code",
   "execution_count": null,
   "id": "ac5d8675",
   "metadata": {},
   "outputs": [],
   "source": [
    "from ldaca_web_app_backend import start_server_async, workspace_manager\n",
    "\n",
    "task = start_server_async(host=\"localhost\", port=8001)"
   ]
  },
  {
   "cell_type": "code",
   "execution_count": null,
   "id": "fc2c52a3",
   "metadata": {},
   "outputs": [
    {
     "data": {
      "text/plain": [
       "Workspace(id=519fc7dd, name='Workspace 8/15/2025 10:33:18 AM', nodes=1)"
      ]
     },
     "execution_count": 3,
     "metadata": {},
     "output_type": "execute_result"
    }
   ],
   "source": [
    "ws = workspace_manager.get_current_workspace(\"root\")\n",
    "ws"
   ]
  },
  {
   "cell_type": "code",
   "execution_count": 5,
   "id": "9b61c423",
   "metadata": {},
   "outputs": [
    {
     "data": {
      "text/plain": [
       "{'f5a8e8a1-a214-4d15-ad3a-f90ad864c6c8': Node(id=f5a8e8a1, name='sample_data/ADO/qldelection2020_candidate_tweets', dtype=LazyFrame, lazy=True, parents=0, children=0),\n",
       " '53b374b3-3925-4932-b111-7fbf70e4de3e': Node(id=53b374b3, name='sample_data/ADO/qldelection2020_candidate_tweets', dtype=LazyFrame, lazy=True, parents=0, children=0)}"
      ]
     },
     "execution_count": 5,
     "metadata": {},
     "output_type": "execute_result"
    }
   ],
   "source": [
    "ws.nodes"
   ]
  }
 ],
 "metadata": {
  "kernelspec": {
   "display_name": "ldaca",
   "language": "python",
   "name": "python3"
  },
  "language_info": {
   "codemirror_mode": {
    "name": "ipython",
    "version": 3
   },
   "file_extension": ".py",
   "mimetype": "text/x-python",
   "name": "python",
   "nbconvert_exporter": "python",
   "pygments_lexer": "ipython3",
   "version": "3.12.11"
  }
 },
 "nbformat": 4,
 "nbformat_minor": 5
}
