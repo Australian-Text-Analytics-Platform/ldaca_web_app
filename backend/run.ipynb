{
 "cells": [
  {
   "cell_type": "markdown",
   "id": "c8a1df2c",
   "metadata": {},
   "source": [
    "## Notebook Async Dev Server\n",
    "\n",
    "This simple setup runs the FastAPI app (from `main.py`) inside the current Jupyter kernel *without spawning a subprocess*, so you can keep executing cells to inspect data while the server runs.\n",
    "\n",
    "\n",
    "**You can interact with your workspace graph and nodes from both this notebook and the web UI at the same time.** For example, you can manipulate or inspect nodes directly in Python here, while also using the web interface to visualize or edit the same workspace. All changes are reflected live, since both interfaces operate on the same in-memory workspace.\n",
    "\n",
    "Usage:\n",
    "\n",
    "1. Run the next code cell once (it auto-starts the server asynchronously).\n",
    "\n",
    "2. Interact with data / hit endpoints (e.g. `requests.get('http://127.0.0.1:8001/health')`).\n",
    "\n",
    "3. To reload code after editing `main.py`, call `reload_app()` then `await restart_server()`.\n",
    "\n",
    "4. To stop the server, `await stop_server()`.\n",
    "\n",
    "\n",
    "\n",
    "Note: Full auto-reload like `fastapi dev` isn't possible in-place; we provide a lightweight manual reload."
   ]
  },
  {
   "cell_type": "code",
   "execution_count": null,
   "id": "ac5d8675",
   "metadata": {},
   "outputs": [
    {
     "name": "stderr",
     "output_type": "stream",
     "text": [
      "INFO:     Started server process [65611]\n",
      "INFO:     Waiting for application startup.\n"
     ]
    },
    {
     "name": "stdout",
     "output_type": "stream",
     "text": [
      "🚀 Starting LDaCA Web App...\n",
      "==================================================\n",
      "🔧 DocFrame: ✅ Available\n",
      "🔧 DocWorkspace: ✅ Available\n"
     ]
    },
    {
     "name": "stderr",
     "output_type": "stream",
     "text": [
      "INFO:     Application startup complete.\n",
      "INFO:     Uvicorn running on http://localhost:8001 (Press CTRL+C to quit)\n"
     ]
    },
    {
     "name": "stdout",
     "output_type": "stream",
     "text": [
      "✅ Database initialized at: sqlite+aiosqlite:///./data/users.db\n",
      "✅ Enhanced API initialized successfully\n",
      "📖 API Documentation: http://0.0.0.0:8001/api/docs\n",
      "🔍 Health Check: http://0.0.0.0:8001/health\n",
      "INFO:     ::1:50965 - \"GET /api/workspaces/current HTTP/1.1\" 200 OK\n",
      "INFO:     ::1:50966 - \"GET /api/workspaces/f6083bcc-3101-4751-bca1-a6e2a8f8dfd7/graph HTTP/1.1\" 200 OK\n",
      "INFO:     ::1:50967 - \"GET /api/workspaces/f6083bcc-3101-4751-bca1-a6e2a8f8dfd7/nodes/1aa375b6-67ca-46b0-9958-9968eaf143cd/data?page=1&page_size=20 HTTP/1.1\" 200 OK\n"
     ]
    },
    {
     "name": "stderr",
     "output_type": "stream",
     "text": [
      "/Users/sguo0589/Sources/LDaCA-Text-Analytics-Tools/docworkspace/src/docworkspace/node/core.py:128: PerformanceWarning: Determining the column names of a LazyFrame requires resolving its schema, which is a potentially expensive operation. Use `LazyFrame.collect_schema().names()` to get the column names without this warning.\n",
      "  return getattr(self.data, \"columns\", [])\n"
     ]
    }
   ],
   "source": [
    "from ldaca_web_app_backend import start_server_async, workspace_manager\n",
    "\n",
    "task = start_server_async(host=\"localhost\", port=8001)"
   ]
  },
  {
   "cell_type": "code",
   "execution_count": 2,
   "id": "fc2c52a3",
   "metadata": {},
   "outputs": [
    {
     "data": {
      "text/plain": [
       "Workspace(id=7bc402f1, name='Test 2', nodes=6)"
      ]
     },
     "execution_count": 2,
     "metadata": {},
     "output_type": "execute_result"
    }
   ],
   "source": [
    "ws = workspace_manager.get_current_workspace(\"root\")\n",
    "ws"
   ]
  },
  {
   "cell_type": "code",
   "execution_count": 3,
   "id": "9b61c423",
   "metadata": {},
   "outputs": [
    {
     "data": {
      "text/plain": [
       "{'5316be57-8a84-4c55-ba04-2c03e474ffa6': Node(id=5316be57, name='sample_data/ADO/qldelection2020_candidate_tweets', dtype=LazyFrame, lazy=True, parents=0, children=1),\n",
       " 'adef47b7-8328-45dd-b943-f757b706e7d3': Node(id=adef47b7, name='sample_data/ADO/candidate_info_gender', dtype=LazyFrame, lazy=True, parents=0, children=1),\n",
       " '26324c18-1fc5-4caf-be80-39a2c22eda26': Node(id=26324c18, name='full_table', dtype=LazyFrame, lazy=True, parents=2, children=2),\n",
       " '1aa375b6-67ca-46b0-9958-9968eaf143cd': Node(id=1aa375b6, name='AnnastaciaMP', dtype=LazyFrame, lazy=True, parents=1, children=1),\n",
       " '47bb9152-3486-4ba8-b371-6e56f1052115': Node(id=47bb9152, name='MarkBaileyMP', dtype=LazyFrame, lazy=True, parents=1, children=0),\n",
       " '988356b8-0712-4b4d-aca7-666f1b625d5f': Node(id=988356b8, name='filtered', dtype=LazyFrame, lazy=True, parents=1, children=0)}"
      ]
     },
     "execution_count": 3,
     "metadata": {},
     "output_type": "execute_result"
    }
   ],
   "source": [
    "ws.nodes"
   ]
  },
  {
   "cell_type": "code",
   "execution_count": 8,
   "id": "74569857",
   "metadata": {},
   "outputs": [
    {
     "ename": "SchemaError",
     "evalue": "could not evaluate '>' comparison between series 'created_at' of dtype: datetime[μs, UTC] and series 'literal' of dtype: datetime[μs]",
     "output_type": "error",
     "traceback": [
      "\u001b[31m---------------------------------------------------------------------------\u001b[39m",
      "\u001b[31mSchemaError\u001b[39m                               Traceback (most recent call last)",
      "\u001b[36mCell\u001b[39m\u001b[36m \u001b[39m\u001b[32mIn[8]\u001b[39m\u001b[32m, line 1\u001b[39m\n\u001b[32m----> \u001b[39m\u001b[32m1\u001b[39m \u001b[43mws\u001b[49m\u001b[43m.\u001b[49m\u001b[43mnodes\u001b[49m\u001b[43m[\u001b[49m\u001b[33;43m'\u001b[39;49m\u001b[33;43m988356b8-0712-4b4d-aca7-666f1b625d5f\u001b[39;49m\u001b[33;43m'\u001b[39;49m\u001b[43m]\u001b[49m\u001b[43m.\u001b[49m\u001b[43mdata\u001b[49m\u001b[43m.\u001b[49m\u001b[43mcollect\u001b[49m\u001b[43m(\u001b[49m\u001b[43m)\u001b[49m\n",
      "\u001b[36mFile \u001b[39m\u001b[32m~/Sources/LDaCA-Text-Analytics-Tools/.venv/lib/python3.12/site-packages/polars/_utils/deprecation.py:97\u001b[39m, in \u001b[36mdeprecate_streaming_parameter.<locals>.decorate.<locals>.wrapper\u001b[39m\u001b[34m(*args, **kwargs)\u001b[39m\n\u001b[32m     93\u001b[39m         kwargs[\u001b[33m\"\u001b[39m\u001b[33mengine\u001b[39m\u001b[33m\"\u001b[39m] = \u001b[33m\"\u001b[39m\u001b[33min-memory\u001b[39m\u001b[33m\"\u001b[39m\n\u001b[32m     95\u001b[39m     \u001b[38;5;28;01mdel\u001b[39;00m kwargs[\u001b[33m\"\u001b[39m\u001b[33mstreaming\u001b[39m\u001b[33m\"\u001b[39m]\n\u001b[32m---> \u001b[39m\u001b[32m97\u001b[39m \u001b[38;5;28;01mreturn\u001b[39;00m \u001b[43mfunction\u001b[49m\u001b[43m(\u001b[49m\u001b[43m*\u001b[49m\u001b[43margs\u001b[49m\u001b[43m,\u001b[49m\u001b[43m \u001b[49m\u001b[43m*\u001b[49m\u001b[43m*\u001b[49m\u001b[43mkwargs\u001b[49m\u001b[43m)\u001b[49m\n",
      "\u001b[36mFile \u001b[39m\u001b[32m~/Sources/LDaCA-Text-Analytics-Tools/.venv/lib/python3.12/site-packages/polars/lazyframe/opt_flags.py:330\u001b[39m, in \u001b[36mforward_old_opt_flags.<locals>.decorate.<locals>.wrapper\u001b[39m\u001b[34m(*args, **kwargs)\u001b[39m\n\u001b[32m    327\u001b[39m         optflags = cb(optflags, kwargs.pop(key))  \u001b[38;5;66;03m# type: ignore[no-untyped-call,unused-ignore]\u001b[39;00m\n\u001b[32m    329\u001b[39m kwargs[\u001b[33m\"\u001b[39m\u001b[33moptimizations\u001b[39m\u001b[33m\"\u001b[39m] = optflags\n\u001b[32m--> \u001b[39m\u001b[32m330\u001b[39m \u001b[38;5;28;01mreturn\u001b[39;00m \u001b[43mfunction\u001b[49m\u001b[43m(\u001b[49m\u001b[43m*\u001b[49m\u001b[43margs\u001b[49m\u001b[43m,\u001b[49m\u001b[43m \u001b[49m\u001b[43m*\u001b[49m\u001b[43m*\u001b[49m\u001b[43mkwargs\u001b[49m\u001b[43m)\u001b[49m\n",
      "\u001b[36mFile \u001b[39m\u001b[32m~/Sources/LDaCA-Text-Analytics-Tools/.venv/lib/python3.12/site-packages/polars/lazyframe/frame.py:2335\u001b[39m, in \u001b[36mLazyFrame.collect\u001b[39m\u001b[34m(self, type_coercion, predicate_pushdown, projection_pushdown, simplify_expression, slice_pushdown, comm_subplan_elim, comm_subexpr_elim, cluster_with_columns, collapse_joins, no_optimization, engine, background, optimizations, **_kwargs)\u001b[39m\n\u001b[32m   2333\u001b[39m \u001b[38;5;66;03m# Only for testing purposes\u001b[39;00m\n\u001b[32m   2334\u001b[39m callback = _kwargs.get(\u001b[33m\"\u001b[39m\u001b[33mpost_opt_callback\u001b[39m\u001b[33m\"\u001b[39m, callback)\n\u001b[32m-> \u001b[39m\u001b[32m2335\u001b[39m \u001b[38;5;28;01mreturn\u001b[39;00m wrap_df(\u001b[43mldf\u001b[49m\u001b[43m.\u001b[49m\u001b[43mcollect\u001b[49m\u001b[43m(\u001b[49m\u001b[43mengine\u001b[49m\u001b[43m,\u001b[49m\u001b[43m \u001b[49m\u001b[43mcallback\u001b[49m\u001b[43m)\u001b[49m)\n",
      "\u001b[31mSchemaError\u001b[39m: could not evaluate '>' comparison between series 'created_at' of dtype: datetime[μs, UTC] and series 'literal' of dtype: datetime[μs]"
     ]
    }
   ],
   "source": [
    "ws.nodes['988356b8-0712-4b4d-aca7-666f1b625d5f'].data.collect()"
   ]
  },
  {
   "cell_type": "code",
   "execution_count": null,
   "id": "e13105aa",
   "metadata": {},
   "outputs": [],
   "source": []
  }
 ],
 "metadata": {
  "kernelspec": {
   "display_name": "ldaca",
   "language": "python",
   "name": "python3"
  },
  "language_info": {
   "codemirror_mode": {
    "name": "ipython",
    "version": 3
   },
   "file_extension": ".py",
   "mimetype": "text/x-python",
   "name": "python",
   "nbconvert_exporter": "python",
   "pygments_lexer": "ipython3",
   "version": "3.12.11"
  }
 },
 "nbformat": 4,
 "nbformat_minor": 5
}
