{
 "cells": [
  {
   "cell_type": "markdown",
   "id": "c8a1df2c",
   "metadata": {},
   "source": [
    "## Notebook Async Dev Server\n",
    "\n",
    "This simple setup runs the FastAPI app (from `main.py`) inside the current Jupyter kernel *without spawning a subprocess*, so you can keep executing cells to inspect data while the server runs.\n",
    "\n",
    "\n",
    "**You can interact with your workspace graph and nodes from both this notebook and the web UI at the same time.** For example, you can manipulate or inspect nodes directly in Python here, while also using the web interface to visualize or edit the same workspace. All changes are reflected live, since both interfaces operate on the same in-memory workspace.\n",
    "\n",
    "Usage:\n",
    "\n",
    "1. Run the next code cell once (it auto-starts the server asynchronously).\n",
    "\n",
    "2. Interact with data / hit endpoints (e.g. `requests.get('http://127.0.0.1:8001/health')`).\n",
    "\n",
    "3. To reload code after editing `main.py`, call `reload_app()` then `await restart_server()`.\n",
    "\n",
    "4. To stop the server, `await stop_server()`.\n",
    "\n",
    "\n",
    "\n",
    "Note: Full auto-reload like `fastapi dev` isn't possible in-place; we provide a lightweight manual reload."
   ]
  },
  {
   "cell_type": "code",
   "execution_count": null,
   "id": "ac5d8675",
   "metadata": {},
   "outputs": [
    {
     "name": "stderr",
     "output_type": "stream",
     "text": [
      "INFO:     Started server process [78245]\n",
      "INFO:     Waiting for application startup.\n",
      "INFO:     Waiting for application startup.\n"
     ]
    },
    {
     "name": "stdout",
     "output_type": "stream",
     "text": [
      "🚀 Starting LDaCA Web App...\n",
      "==================================================\n",
      "🔧 DocFrame: ✅ Available\n",
      "🔧 DocWorkspace: ✅ Available\n"
     ]
    },
    {
     "name": "stderr",
     "output_type": "stream",
     "text": [
      "INFO:     Application startup complete.\n",
      "INFO:     Uvicorn running on http://localhost:8001 (Press CTRL+C to quit)\n",
      "INFO:     Uvicorn running on http://localhost:8001 (Press CTRL+C to quit)\n"
     ]
    },
    {
     "name": "stdout",
     "output_type": "stream",
     "text": [
      "✅ Database initialized at: sqlite+aiosqlite:///./data/users.db\n",
      "✅ Enhanced API initialized successfully\n",
      "📖 API Documentation: http://0.0.0.0:8001/api/docs\n",
      "🔍 Health Check: http://0.0.0.0:8001/health\n",
      "INFO:     ::1:61310 - \"GET /api/workspaces/current HTTP/1.1\" 200 OK\n",
      "INFO:     ::1:61310 - \"GET /api/workspaces/current HTTP/1.1\" 200 OK\n",
      "Failed to deserialize workspace b6e04949-bb7c-414e-a786-4010630782cf: Expecting value: line 2410 column 11 (char 74596)\n",
      "INFO:     ::1:61311 - \"GET /api/workspaces/b6e04949-bb7c-414e-a786-4010630782cf/nodes/a3c28e99-e73b-4140-833e-73467df11277/data?page=1&page_size=50 HTTP/1.1\" 404 Not Found\n",
      "Failed to deserialize workspace b6e04949-bb7c-414e-a786-4010630782cf: Expecting value: line 2410 column 11 (char 74596)\n",
      "INFO:     ::1:61311 - \"GET /api/workspaces/b6e04949-bb7c-414e-a786-4010630782cf/nodes/a3c28e99-e73b-4140-833e-73467df11277/data?page=1&page_size=50 HTTP/1.1\" 404 Not Found\n",
      "✅ Sample data copied to user root data folder\n",
      "INFO:     ::1:61310 - \"GET /api/auth/ HTTP/1.1\" 200 OK\n",
      "✅ Sample data copied to user root data folder\n",
      "INFO:     ::1:61310 - \"GET /api/auth/ HTTP/1.1\" 200 OK\n",
      "Failed to deserialize workspace c888d105-ad14-4875-be23-4648dea9975c: Expecting value: line 2410 column 11 (char 74595)\n",
      "Failed to deserialize workspace 99262eb8-284d-426b-ab42-ecd5f9481fd5: Expecting value: line 2410 column 11 (char 74596)\n",
      "Failed to deserialize workspace b6e04949-bb7c-414e-a786-4010630782cf: Expecting value: line 2410 column 11 (char 74596)\n",
      "Failed to deserialize workspace 8d8f1702-4d33-41a7-83ed-3ad262efea85: Expecting value: line 2410 column 11 (char 74595)\n",
      "Failed to deserialize workspace b1426bef-b684-44ac-92b9-80758c2f5095: Expecting value: line 2410 column 11 (char 74595)\n",
      "Failed to deserialize workspace d5fe1b0f-b052-4bfe-b410-c256805a32e3: Expecting value: line 2410 column 11 (char 74596)\n",
      "Failed to deserialize workspace b98ee4fb-44e5-4afb-b9ef-486dfb4c03fc: Expecting value: line 2410 column 11 (char 74596)\n",
      "Failed to deserialize workspace ed6fd2d9-fb62-4452-9c60-be43d67a2704: Expecting value: line 2410 column 11 (char 74596)\n",
      "Failed to deserialize workspace 53ac3393-3934-4cbd-aaea-c35e7ba1a149: Expecting value: line 2410 column 11 (char 74596)\n",
      "Failed to deserialize workspace 5555d130-237f-4489-88e1-e92e14c0372e: Expecting value: line 91672 column 11 (char 3236802)\n",
      "Failed to deserialize workspace 81773810-85a1-4c8e-9024-983de8aca7d8: Expecting value: line 3568 column 11 (char 2912825)\n",
      "INFO:     ::1:61311 - \"GET /api/workspaces/ HTTP/1.1\" 200 OK\n",
      "Failed to deserialize workspace c888d105-ad14-4875-be23-4648dea9975c: Expecting value: line 2410 column 11 (char 74595)\n",
      "Failed to deserialize workspace 99262eb8-284d-426b-ab42-ecd5f9481fd5: Expecting value: line 2410 column 11 (char 74596)\n",
      "Failed to deserialize workspace b6e04949-bb7c-414e-a786-4010630782cf: Expecting value: line 2410 column 11 (char 74596)\n",
      "Failed to deserialize workspace 8d8f1702-4d33-41a7-83ed-3ad262efea85: Expecting value: line 2410 column 11 (char 74595)\n",
      "Failed to deserialize workspace b1426bef-b684-44ac-92b9-80758c2f5095: Expecting value: line 2410 column 11 (char 74595)\n",
      "Failed to deserialize workspace d5fe1b0f-b052-4bfe-b410-c256805a32e3: Expecting value: line 2410 column 11 (char 74596)\n",
      "Failed to deserialize workspace b98ee4fb-44e5-4afb-b9ef-486dfb4c03fc: Expecting value: line 2410 column 11 (char 74596)\n",
      "Failed to deserialize workspace ed6fd2d9-fb62-4452-9c60-be43d67a2704: Expecting value: line 2410 column 11 (char 74596)\n",
      "Failed to deserialize workspace 53ac3393-3934-4cbd-aaea-c35e7ba1a149: Expecting value: line 2410 column 11 (char 74596)\n",
      "Failed to deserialize workspace 5555d130-237f-4489-88e1-e92e14c0372e: Expecting value: line 91672 column 11 (char 3236802)\n",
      "Failed to deserialize workspace 81773810-85a1-4c8e-9024-983de8aca7d8: Expecting value: line 3568 column 11 (char 2912825)\n",
      "INFO:     ::1:61311 - \"GET /api/workspaces/ HTTP/1.1\" 200 OK\n",
      "INFO:     ::1:61310 - \"GET /api/workspaces/current HTTP/1.1\" 200 OK\n",
      "INFO:     ::1:61310 - \"GET /api/workspaces/current HTTP/1.1\" 200 OK\n",
      "INFO:     ::1:61316 - \"GET /api/files/ HTTP/1.1\" 200 OK\n",
      "INFO:     ::1:61316 - \"GET /api/files/ HTTP/1.1\" 200 OK\n",
      "INFO:     ::1:61398 - \"POST /api/workspaces/ HTTP/1.1\" 200 OK\n",
      "INFO:     ::1:61398 - \"POST /api/workspaces/ HTTP/1.1\" 200 OK\n",
      "Failed to deserialize workspace c888d105-ad14-4875-be23-4648dea9975c: Expecting value: line 2410 column 11 (char 74595)\n",
      "Failed to deserialize workspace 99262eb8-284d-426b-ab42-ecd5f9481fd5: Expecting value: line 2410 column 11 (char 74596)\n",
      "Failed to deserialize workspace b6e04949-bb7c-414e-a786-4010630782cf: Expecting value: line 2410 column 11 (char 74596)\n",
      "Failed to deserialize workspace 8d8f1702-4d33-41a7-83ed-3ad262efea85: Expecting value: line 2410 column 11 (char 74595)\n",
      "Failed to deserialize workspace b1426bef-b684-44ac-92b9-80758c2f5095: Expecting value: line 2410 column 11 (char 74595)\n",
      "Failed to deserialize workspace d5fe1b0f-b052-4bfe-b410-c256805a32e3: Expecting value: line 2410 column 11 (char 74596)\n",
      "Failed to deserialize workspace b98ee4fb-44e5-4afb-b9ef-486dfb4c03fc: Expecting value: line 2410 column 11 (char 74596)\n",
      "Failed to deserialize workspace ed6fd2d9-fb62-4452-9c60-be43d67a2704: Expecting value: line 2410 column 11 (char 74596)\n",
      "Failed to deserialize workspace 53ac3393-3934-4cbd-aaea-c35e7ba1a149: Expecting value: line 2410 column 11 (char 74596)\n",
      "Failed to deserialize workspace 5555d130-237f-4489-88e1-e92e14c0372e: Expecting value: line 91672 column 11 (char 3236802)\n",
      "Failed to deserialize workspace 81773810-85a1-4c8e-9024-983de8aca7d8: Expecting value: line 3568 column 11 (char 2912825)\n",
      "INFO:     ::1:61398 - \"GET /api/workspaces/ HTTP/1.1\" 200 OK\n",
      "Failed to deserialize workspace c888d105-ad14-4875-be23-4648dea9975c: Expecting value: line 2410 column 11 (char 74595)\n",
      "Failed to deserialize workspace 99262eb8-284d-426b-ab42-ecd5f9481fd5: Expecting value: line 2410 column 11 (char 74596)\n",
      "Failed to deserialize workspace b6e04949-bb7c-414e-a786-4010630782cf: Expecting value: line 2410 column 11 (char 74596)\n",
      "Failed to deserialize workspace 8d8f1702-4d33-41a7-83ed-3ad262efea85: Expecting value: line 2410 column 11 (char 74595)\n",
      "Failed to deserialize workspace b1426bef-b684-44ac-92b9-80758c2f5095: Expecting value: line 2410 column 11 (char 74595)\n",
      "Failed to deserialize workspace d5fe1b0f-b052-4bfe-b410-c256805a32e3: Expecting value: line 2410 column 11 (char 74596)\n",
      "Failed to deserialize workspace b98ee4fb-44e5-4afb-b9ef-486dfb4c03fc: Expecting value: line 2410 column 11 (char 74596)\n",
      "Failed to deserialize workspace ed6fd2d9-fb62-4452-9c60-be43d67a2704: Expecting value: line 2410 column 11 (char 74596)\n",
      "Failed to deserialize workspace 53ac3393-3934-4cbd-aaea-c35e7ba1a149: Expecting value: line 2410 column 11 (char 74596)\n",
      "Failed to deserialize workspace 5555d130-237f-4489-88e1-e92e14c0372e: Expecting value: line 91672 column 11 (char 3236802)\n",
      "Failed to deserialize workspace 81773810-85a1-4c8e-9024-983de8aca7d8: Expecting value: line 3568 column 11 (char 2912825)\n",
      "INFO:     ::1:61398 - \"GET /api/workspaces/ HTTP/1.1\" 200 OK\n"
     ]
    },
    {
     "name": "stderr",
     "output_type": "stream",
     "text": [
      "/Users/sguo0589/Sources/LDaCA-Text-Analytics-Tools/ldaca_web_app/backend/api/workspaces.py:178: PerformanceWarning: Determining the column names of a LazyFrame requires resolving its schema, which is a potentially expensive operation. Use `LazyFrame.collect_schema().names()` to get the column names without this warning.\n",
      "  if hasattr(loaded_data, \"columns\") and hasattr(loaded_data, \"iloc\"):\n"
     ]
    },
    {
     "name": "stdout",
     "output_type": "stream",
     "text": [
      "INFO:     ::1:61399 - \"GET /api/workspaces/current HTTP/1.1\" 200 OK\n",
      "INFO:     ::1:61400 - \"OPTIONS /api/workspaces/current?workspace_id=67a8e571-f5a1-4daa-90ee-cc3c7c7e598c HTTP/1.1\" 200 OK\n",
      "INFO:     ::1:61400 - \"OPTIONS /api/workspaces/current?workspace_id=67a8e571-f5a1-4daa-90ee-cc3c7c7e598c HTTP/1.1\" 200 OK\n",
      "INFO:     ::1:61398 - \"POST /api/workspaces/current?workspace_id=67a8e571-f5a1-4daa-90ee-cc3c7c7e598c HTTP/1.1\" 200 OK\n",
      "INFO:     ::1:61398 - \"POST /api/workspaces/current?workspace_id=67a8e571-f5a1-4daa-90ee-cc3c7c7e598c HTTP/1.1\" 200 OK\n",
      "INFO:     ::1:61399 - \"GET /api/workspaces/67a8e571-f5a1-4daa-90ee-cc3c7c7e598c/graph HTTP/1.1\" 200 OK\n",
      "INFO:     ::1:61399 - \"GET /api/workspaces/67a8e571-f5a1-4daa-90ee-cc3c7c7e598c/graph HTTP/1.1\" 200 OK\n",
      "INFO:     ::1:61400 - \"GET /api/workspaces/current HTTP/1.1\" 200 OK\n",
      "INFO:     ::1:61400 - \"GET /api/workspaces/current HTTP/1.1\" 200 OK\n"
     ]
    },
    {
     "name": "stderr",
     "output_type": "stream",
     "text": [
      "/Users/sguo0589/Sources/LDaCA-Text-Analytics-Tools/docworkspace/docworkspace/node/core.py:184: PerformanceWarning: Determining the column names of a LazyFrame requires resolving its schema, which is a potentially expensive operation. Use `LazyFrame.collect_schema().names()` to get the column names without this warning.\n",
      "  return getattr(self.data, \"columns\", [])\n"
     ]
    }
   ],
   "source": [
    "from inline import start_server\n",
    "\n",
    "task = start_server(host=\"localhost\", port=8001)"
   ]
  },
  {
   "cell_type": "code",
   "execution_count": 3,
   "id": "fc2c52a3",
   "metadata": {},
   "outputs": [
    {
     "data": {
      "text/plain": [
       "Workspace(id=519fc7dd, name='Workspace 8/15/2025 10:33:18 AM', nodes=1)"
      ]
     },
     "execution_count": 3,
     "metadata": {},
     "output_type": "execute_result"
    }
   ],
   "source": [
    "from core.workspace import workspace_manager\n",
    "\n",
    "ws = workspace_manager.get_current_workspace(\"root\")\n",
    "ws"
   ]
  },
  {
   "cell_type": "code",
   "execution_count": 1,
   "id": "f328abd6",
   "metadata": {},
   "outputs": [
    {
     "ename": "NameError",
     "evalue": "name 'ws' is not defined",
     "output_type": "error",
     "traceback": [
      "\u001b[31m---------------------------------------------------------------------------\u001b[39m",
      "\u001b[31mNameError\u001b[39m                                 Traceback (most recent call last)",
      "\u001b[36mCell\u001b[39m\u001b[36m \u001b[39m\u001b[32mIn[1]\u001b[39m\u001b[32m, line 1\u001b[39m\n\u001b[32m----> \u001b[39m\u001b[32m1\u001b[39m \u001b[43mws\u001b[49m.serialise\n",
      "\u001b[31mNameError\u001b[39m: name 'ws' is not defined"
     ]
    }
   ],
   "source": [
    "ws.serialise"
   ]
  },
  {
   "cell_type": "code",
   "execution_count": 7,
   "id": "02cdf35d",
   "metadata": {},
   "outputs": [],
   "source": [
    "workspace_manager._save('root', '67a8e571-f5a1-4daa-90ee-cc3c7c7e598c', ws)"
   ]
  },
  {
   "cell_type": "code",
   "execution_count": 5,
   "id": "9b61c423",
   "metadata": {},
   "outputs": [
    {
     "data": {
      "text/plain": [
       "{'f5a8e8a1-a214-4d15-ad3a-f90ad864c6c8': Node(id=f5a8e8a1, name='sample_data/ADO/qldelection2020_candidate_tweets', dtype=LazyFrame, lazy=True, parents=0, children=0),\n",
       " '53b374b3-3925-4932-b111-7fbf70e4de3e': Node(id=53b374b3, name='sample_data/ADO/qldelection2020_candidate_tweets', dtype=LazyFrame, lazy=True, parents=0, children=0)}"
      ]
     },
     "execution_count": 5,
     "metadata": {},
     "output_type": "execute_result"
    }
   ],
   "source": [
    "ws.nodes"
   ]
  },
  {
   "cell_type": "code",
   "execution_count": 7,
   "id": "a07322d0",
   "metadata": {},
   "outputs": [
    {
     "name": "stdout",
     "output_type": "stream",
     "text": [
      "Matched Int64 or Float32\n"
     ]
    }
   ],
   "source": [
    "import polars as pl\n",
    "def foo(dtype):\n",
    "    match dtype:\n",
    "        case pl.Int64 | pl.Float32:\n",
    "            print(\"Matched Int64 or Float32\")\n",
    "        case _:\n",
    "            print(\"Matched something else\")\n",
    "\n",
    "foo(pl.Float32)"
   ]
  },
  {
   "cell_type": "code",
   "execution_count": 5,
   "id": "b33edb57",
   "metadata": {},
   "outputs": [
    {
     "data": {
      "text/plain": [
       "False"
      ]
     },
     "execution_count": 5,
     "metadata": {},
     "output_type": "execute_result"
    }
   ],
   "source": [
    "pl.Int64 == pl.Int64 | pl.Float32"
   ]
  },
  {
   "cell_type": "code",
   "execution_count": null,
   "id": "fd71d0b9",
   "metadata": {},
   "outputs": [],
   "source": []
  }
 ],
 "metadata": {
  "kernelspec": {
   "display_name": "ldaca",
   "language": "python",
   "name": "python3"
  },
  "language_info": {
   "codemirror_mode": {
    "name": "ipython",
    "version": 3
   },
   "file_extension": ".py",
   "mimetype": "text/x-python",
   "name": "python",
   "nbconvert_exporter": "python",
   "pygments_lexer": "ipython3",
   "version": "3.12.11"
  }
 },
 "nbformat": 4,
 "nbformat_minor": 5
}
